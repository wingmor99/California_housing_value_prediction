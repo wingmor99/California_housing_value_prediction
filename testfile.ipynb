{
  "nbformat": 4,
  "nbformat_minor": 0,
  "metadata": {
    "colab": {
      "name": "testfile.ipynb",
      "provenance": [],
      "collapsed_sections": [],
      "include_colab_link": true
    },
    "kernelspec": {
      "name": "python3",
      "display_name": "Python 3"
    }
  },
  "cells": [
    {
      "cell_type": "markdown",
      "metadata": {
        "id": "view-in-github",
        "colab_type": "text"
      },
      "source": [
        "<a href=\"https://colab.research.google.com/github/wingmor99/California_housing_value_prediction/blob/master/testfile.ipynb\" target=\"_parent\"><img src=\"https://colab.research.google.com/assets/colab-badge.svg\" alt=\"Open In Colab\"/></a>"
      ]
    },
    {
      "cell_type": "code",
      "metadata": {
        "id": "gaLd-w-H3iBi",
        "colab_type": "code",
        "colab": {}
      },
      "source": [
        "## this is a test file"
      ],
      "execution_count": 0,
      "outputs": []
    },
    {
      "cell_type": "code",
      "metadata": {
        "id": "N9AsPHo03rbp",
        "colab_type": "code",
        "colab": {}
      },
      "source": [
        "# second test file input"
      ],
      "execution_count": 0,
      "outputs": []
    }
  ]
}